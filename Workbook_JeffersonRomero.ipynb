{
 "cells": [
  {
   "cell_type": "code",
   "execution_count": 1,
   "id": "491a9b35",
   "metadata": {},
   "outputs": [],
   "source": [
    "\"\"\"Primeramente definimos cada una de las variables que nos da un overview de todo el ejercicio y está además\n",
    "fraccionado en cada una de las tareas individuales que aparecerá cada vez que se use trabaje en una nueva tarea,\n",
    "para el buen funcionamiento de este código se deberá ir corriendo cada celda.\"\"\"\n",
    "\n",
    "main_task='(1 point) You must create a two-dimension list (i.e. a square matrix) with a number of elements determined by the user (check whether you can create this matrix with the number of required elements).'\n",
    "first_task='- Create a function to sum all the elements of a given row --that must be specified by the program user-- (0.25 points)'\n",
    "second_task='- Create a function to sum 1 to the first element, 2 to the second element, etc. to all elements of a given column --that must be especified by the program user-- (0.25 points)'\n",
    "third_task='- Sum one by one all the elements of the fifth row with all the elements of the fifth column (0.25 points)'\n",
    "fourth_task='- Create the function that the teacher told you in the previous class (Sine), that must be specified by the program user (0.25 points)'"
   ]
  },
  {
   "cell_type": "code",
   "execution_count": 2,
   "id": "14220b66",
   "metadata": {},
   "outputs": [
    {
     "name": "stdout",
     "output_type": "stream",
     "text": [
      "(1 point) You must create a two-dimension list (i.e. a square matrix) with a number of elements determined by the user (check whether you can create this matrix with the number of required elements). \n",
      "\n",
      " - Create a function to sum all the elements of a given row --that must be specified by the program user-- (0.25 points) \n",
      " - Create a function to sum 1 to the first element, 2 to the second element, etc. to all elements of a given column --that must be especified by the program user-- (0.25 points) \n",
      " - Sum one by one all the elements of the fifth row with all the elements of the fifth column (0.25 points) \n",
      " - Create the function that the teacher told you in the previous class (Sine), that must be specified by the program user (0.25 points)\n"
     ]
    }
   ],
   "source": [
    "#Hacemos print para tener una idea de como se desarrolla el ejercicio y sus tareas específicas.\n",
    "\n",
    "print(main_task,'\\n\\n', first_task, '\\n', second_task, '\\n', third_task, '\\n', fourth_task)"
   ]
  },
  {
   "cell_type": "code",
   "execution_count": 3,
   "id": "095aa7b1",
   "metadata": {},
   "outputs": [
    {
     "data": {
      "text/plain": [
       "'(1 point) You must create a two-dimension list (i.e. a square matrix) with a number of elements determined by the user (check whether you can create this matrix with the number of required elements).'"
      ]
     },
     "execution_count": 3,
     "metadata": {},
     "output_type": "execute_result"
    }
   ],
   "source": [
    "main_task #De esta forma llamamos a la tarea principal que será crear la matriz."
   ]
  },
  {
   "cell_type": "code",
   "execution_count": 4,
   "id": "cf30eb23",
   "metadata": {},
   "outputs": [],
   "source": [
    "import math #Esta librería la necesitamos para usar la función sqrt (raíz cuadrada) y finalmente la función pi y sin."
   ]
  },
  {
   "cell_type": "code",
   "execution_count": 5,
   "id": "d6b4adf5",
   "metadata": {},
   "outputs": [
    {
     "name": "stdout",
     "output_type": "stream",
     "text": [
      "Escribir el número de elementos que desee ingresar a la matriz: 25\n",
      "sí puede crearse una matriz con 25 elementos que tendrá 5 columnas y 5 filas\n"
     ]
    }
   ],
   "source": [
    "\"\"\"Con este while loop se pretende dar al usuario una forma interactiva para crear una matriz con\n",
    "el número de elementos determinado por el usario, para ello se hace uso de try/except para lidear con\n",
    "posibles errores de inputs y se ha establecido una condición (la que aparece junto a \"elif\") para asegurarnos\n",
    "que con el número de elemenos dados por el usuario es posible crear esta matriz.\"\"\"\n",
    "\n",
    "while True:\n",
    "    try:\n",
    "        nn=int(input('Escribir el número de elementos que desee ingresar a la matriz: '))\n",
    "        if nn<=0:\n",
    "            print(\"El valor ingresado no es válido\")\n",
    "            continue\n",
    "        elif math.sqrt(nn)%1!=0.0: \n",
    "            print('No se puede crear una matriz con este  número de elementos')\n",
    "            continue\n",
    "        else:\n",
    "            print(f'sí puede crearse una matriz con {nn} elementos que tendrá {int(math.sqrt(nn))} columnas y {int(math.sqrt(nn))} filas')\n",
    "            break   \n",
    "    except ValueError:\n",
    "        print(\"Lo ingresado no tiene el formato correcto\\n\")\n",
    "        continue"
   ]
  },
  {
   "cell_type": "code",
   "execution_count": 6,
   "id": "e8494945",
   "metadata": {},
   "outputs": [],
   "source": [
    "import random #Esta librería la importamos para crear números aleatorios de los cuales se ingresarán a la matriz."
   ]
  },
  {
   "cell_type": "code",
   "execution_count": 7,
   "id": "393a6eba",
   "metadata": {},
   "outputs": [],
   "source": [
    "\"\"\"Se incializan dos listas, la primera será la que contendrá a la matriz, mientras que la segunda\n",
    "es la que se irá agregando a la matriz con el número de elementos adecuado (ejemplo: de una matriz de 100 elementos\n",
    "cada fila tendrá 10, por lo que la matriz tendrán 10 filas de 10 elementos) \"\"\"\n",
    "\n",
    "matrix=[] #Lista principal que contiene a la matriz\n",
    "fila=[] #Lista secundaria que contendrá a diferentes filas de la matriz."
   ]
  },
  {
   "cell_type": "code",
   "execution_count": 8,
   "id": "26923418",
   "metadata": {},
   "outputs": [],
   "source": [
    "\"\"\"Se inicializan dos contadores, en el cual el primero tiene como objetivo asegurarnos de que el número\n",
    "de elementos que se ingresan a la matriz no sea mayor que el especificado por el usuario (nn) y el segundo contador\n",
    "tiene como objetivo asegurarnos que los elementos serán ingresados en una lista de sqrt(nn) elementos, como lo especificado\n",
    "en la celda anterior\"\"\"\n",
    "\n",
    "ii=1 #Primer contador\n",
    "jj=1 #Segundo contador"
   ]
  },
  {
   "cell_type": "code",
   "execution_count": 9,
   "id": "e557196d",
   "metadata": {},
   "outputs": [],
   "source": [
    "\"\"\"Este while loop tiene como objetivo agregar el número de elementos especificados por el usario en una lista (matrix) \n",
    "que contendrá una serie de listas de sqrt(nn) elementos, todos los elementos son aleatorios de 0 a 100, y cada \n",
    "elemento se ha casteado para que sea un entero, para simplicidad de los cálculos a la hora de corroborar los resultados\n",
    "de las operaciones\"\"\"\n",
    "\n",
    "while ii<=nn:\n",
    "    for elemento in range(nn):\n",
    "        elemento=int(random.uniform(0,100))\n",
    "        ii=ii+1\n",
    "        fila.append(elemento)\n",
    "        if jj==int(math.sqrt(nn)):\n",
    "            matrix.append(fila)\n",
    "            fila=[]\n",
    "            jj=1\n",
    "        else:\n",
    "            jj=jj+1\n",
    "            continue"
   ]
  },
  {
   "cell_type": "code",
   "execution_count": 10,
   "id": "b6352315",
   "metadata": {},
   "outputs": [
    {
     "name": "stdout",
     "output_type": "stream",
     "text": [
      "La matrix de 25 elementos creada es: \n",
      "[[86, 68, 37, 37, 57], [72, 75, 64, 7, 8], [32, 29, 27, 50, 97], [90, 11, 60, 45, 71], [12, 63, 71, 34, 99]]\n"
     ]
    }
   ],
   "source": [
    "print(f'La matrix de {nn} elementos creada es: \\n{matrix}') #De esta forma llamamos a la matriz creada"
   ]
  },
  {
   "cell_type": "code",
   "execution_count": 11,
   "id": "ec33d1b7",
   "metadata": {},
   "outputs": [
    {
     "data": {
      "text/plain": [
       "'- Create a function to sum all the elements of a given row --that must be specified by the program user-- (0.25 points)'"
      ]
     },
     "execution_count": 11,
     "metadata": {},
     "output_type": "execute_result"
    }
   ],
   "source": [
    "first_task #Aquí empieza la primera tarea especifica"
   ]
  },
  {
   "cell_type": "code",
   "execution_count": 12,
   "id": "19cfdf19",
   "metadata": {},
   "outputs": [
    {
     "name": "stdout",
     "output_type": "stream",
     "text": [
      "Seleccione una fila desde 1 hasta 5: 1\n",
      "La fila seleccionada es 1 cuyos elementos son: \n",
      "[86, 68, 37, 37, 57]\n"
     ]
    }
   ],
   "source": [
    "\"\"\"Este while loop tiene como objetivo dar al usuario una forma interactiva de seleccionar la fila que cuyos valores\n",
    "desea sumar, para ello se hizo uso de de try/except para lidear con posibles errores de inputs y además muestra la fila\n",
    "seleccionada\"\"\"\n",
    "\n",
    "while True:\n",
    "    try:\n",
    "        aa=int(input(f'Seleccione una fila desde 1 hasta {int(math.sqrt(nn))}: '))\n",
    "        if aa>=1 and aa<=math.sqrt(nn):\n",
    "            print(f'La fila seleccionada es {aa} cuyos elementos son: \\n{matrix[aa-1]}')\n",
    "            break\n",
    "        else:\n",
    "            print('Lo ingresado no es correcto, intente nuevamente')\n",
    "            continue\n",
    "    except ValueError:\n",
    "        continue"
   ]
  },
  {
   "cell_type": "code",
   "execution_count": 13,
   "id": "698f012e",
   "metadata": {},
   "outputs": [
    {
     "name": "stdout",
     "output_type": "stream",
     "text": [
      "la suma de los elementos de la fila 1 es: 285 \n"
     ]
    }
   ],
   "source": [
    "#De esta forma se muestra la suma de los valores de la fila seleccionada.\n",
    "\n",
    "print(f'la suma de los elementos de la fila {aa} es: {sum(matrix[aa-1])} ')"
   ]
  },
  {
   "cell_type": "code",
   "execution_count": 14,
   "id": "74a52000",
   "metadata": {},
   "outputs": [
    {
     "data": {
      "text/plain": [
       "'- Create a function to sum 1 to the first element, 2 to the second element, etc. to all elements of a given column --that must be especified by the program user-- (0.25 points)'"
      ]
     },
     "execution_count": 14,
     "metadata": {},
     "output_type": "execute_result"
    }
   ],
   "source": [
    "second_task #Aquí inicia la segunda tarea específica."
   ]
  },
  {
   "cell_type": "code",
   "execution_count": 15,
   "id": "1a0f58f0",
   "metadata": {},
   "outputs": [
    {
     "name": "stdout",
     "output_type": "stream",
     "text": [
      "Seleccione una columna desde 1 hasta 5: 5\n",
      "La columna seleccionada es 5 cuyos elementos son: \n",
      "[57, 8, 97, 71, 99]\n"
     ]
    }
   ],
   "source": [
    "\"\"\"Este while loop tiene como objetivo dar al usuario una forma interactiva de seleccionar una columna que será usada en\n",
    "la operación especificada por la segunda tarea y además muestra la columna seleccionada, además se inicializa una nueva\n",
    "lista \"columna\" que contendrá a la columna seleccionada, además de un contador para asegurarse que la columna contiene\n",
    "el número de elementos adecuado\"\"\"\n",
    "\n",
    "while True:\n",
    "    try:\n",
    "        bb=int(input(f'Seleccione una columna desde 1 hasta {int(math.sqrt(nn))}: '))\n",
    "        if bb>=1 and bb<=math.sqrt(nn):\n",
    "            columna=[] \n",
    "            jj=0\n",
    "            for elemento in range(int(math.sqrt(nn))):\n",
    "                elemento=matrix[jj][bb-1]\n",
    "                jj=jj+1\n",
    "                columna.append(elemento)\n",
    "            print(f'La columna seleccionada es {bb} cuyos elementos son: \\n{columna}')\n",
    "            break\n",
    "        else:\n",
    "            print('Lo ingresado no es correcto, intente nuevamente')\n",
    "            continue\n",
    "    except ValueError:\n",
    "        print('Lo ingresado no es correcto, intente nuevamente')\n",
    "        continue"
   ]
  },
  {
   "cell_type": "code",
   "execution_count": 16,
   "id": "f78d192e",
   "metadata": {},
   "outputs": [],
   "source": [
    "\"\"\"Se inicializan dos contadores, el primero determina que se está accediente al número de elemento correspondiente\n",
    "en la columna seleccionada, el segundo nos asegura que cada valor se irá sumando como lo especifica la segunda tarea\n",
    "específica, además se incia una columna nueva que será la que contendrá a los elementos sumados\"\"\"\n",
    "\n",
    "mm=0 #Primer contador\n",
    "kk=1 #Segundo contador\n",
    "columna_sumada=[] #Nueva columna"
   ]
  },
  {
   "cell_type": "code",
   "execution_count": 17,
   "id": "bc41fd4c",
   "metadata": {},
   "outputs": [
    {
     "name": "stdout",
     "output_type": "stream",
     "text": [
      "La nueva columna con el primer elemento sumado por 1, el segundo por 2 y así sucesivamente es: \n",
      "[58, 10, 100, 75, 104]\n"
     ]
    }
   ],
   "source": [
    "\"\"\"Este for loop nos agrega los valores sumados de la columna seleccionada en la nueva columna y muestra el resultado\"\"\"\n",
    "\n",
    "for elemento2 in range(int(math.sqrt(nn))):\n",
    "    columna_sumada.append(columna[mm]+kk)\n",
    "    mm=mm+1\n",
    "    kk=kk+1\n",
    "print(f'La nueva columna con el primer elemento sumado por 1, el segundo por 2 y así sucesivamente es: \\n{columna_sumada}')"
   ]
  },
  {
   "cell_type": "code",
   "execution_count": 18,
   "id": "8f2a75ac",
   "metadata": {},
   "outputs": [
    {
     "data": {
      "text/plain": [
       "'- Sum one by one all the elements of the fifth row with all the elements of the fifth column (0.25 points)'"
      ]
     },
     "execution_count": 18,
     "metadata": {},
     "output_type": "execute_result"
    }
   ],
   "source": [
    "third_task #Aquí inicia la tercera tarea específica"
   ]
  },
  {
   "cell_type": "code",
   "execution_count": 19,
   "id": "7d4c3632",
   "metadata": {},
   "outputs": [],
   "source": [
    "\"\"\"La tercera tarea específica requiere volver a crear la matriz con la condición que solo se aceptan matrices con al menos\n",
    "25 elementos, ya que se requiere calcular la suma de cada elemento de la 5th fila con la 5th columna, por lo que se inicia una\n",
    "nueva lista que contendrá a la matriz, una nueva lista que se insertará a la matriz, y se inicializan los contadores con la misma\n",
    "función que en la creación de la primera matriz\"\"\"\n",
    "\n",
    "matrix2=[] #Nueva matriz\n",
    "fila=[] #lista secundaria\n",
    "ii=1 #primer contador\n",
    "jj=1 #segundo contador"
   ]
  },
  {
   "cell_type": "code",
   "execution_count": 20,
   "id": "a95e987b",
   "metadata": {},
   "outputs": [
    {
     "name": "stdout",
     "output_type": "stream",
     "text": [
      "Escribir el número de elementos que desee ingresar a la matriz: 100\n",
      "sí puede crearse una matriz con 100 elementos que tendrá 10 columnas y 10 filas\n"
     ]
    }
   ],
   "source": [
    "\"\"\"Este while loop tiene la función de obtener el input del usuario para crear la matriz con el número de elementos \n",
    "y que ese número permita crear la matriz adecuadamente, y la condición se muestra en \"if n<25\" \"\"\"\n",
    "\n",
    "while True:\n",
    "    try:\n",
    "        nn=int(input('Escribir el número de elementos que desee ingresar a la matriz: '))\n",
    "        if nn<25:\n",
    "            print(\"El valor ingresado no es válido, debe ser una matriz de al menos 5x5 (25 elementos)\")\n",
    "            continue\n",
    "        elif math.sqrt(nn)%1!=0.0: \n",
    "            print('No se puede crear una matriz con este  número de elementos')\n",
    "            continue\n",
    "        else:\n",
    "            print(f'sí puede crearse una matriz con {nn} elementos que tendrá {int(math.sqrt(nn))} columnas y {int(math.sqrt(nn))} filas')\n",
    "            break   \n",
    "    except ValueError:\n",
    "        print(\"Lo ingresado no tiene el formato correcto\\n\")\n",
    "        continue"
   ]
  },
  {
   "cell_type": "code",
   "execution_count": 21,
   "id": "76b05776",
   "metadata": {},
   "outputs": [],
   "source": [
    "\"\"\"Con este while loop le agregamos número aleatorios a la nueva matriz con el número de elementos \n",
    "especificado por el usario\"\"\"\n",
    "\n",
    "while ii<=nn:\n",
    "    for elemento in range(nn):\n",
    "        elemento=int(random.uniform(0,100))\n",
    "        ii=ii+1\n",
    "        fila.append(elemento)\n",
    "        if jj==int(math.sqrt(nn)):\n",
    "            matrix2.append(fila)\n",
    "            fila=[]\n",
    "            jj=1\n",
    "        else:\n",
    "            jj=jj+1\n",
    "            continue"
   ]
  },
  {
   "cell_type": "code",
   "execution_count": 22,
   "id": "fd597ddd",
   "metadata": {},
   "outputs": [
    {
     "name": "stdout",
     "output_type": "stream",
     "text": [
      "La matrix de 100 elementos creada es: \n",
      "[[4, 62, 86, 38, 65, 58, 93, 59, 37, 13], [65, 2, 30, 48, 49, 97, 44, 31, 61, 2], [36, 71, 46, 97, 4, 62, 53, 5, 85, 45], [7, 38, 76, 92, 26, 78, 76, 46, 58, 73], [9, 17, 88, 61, 98, 69, 84, 51, 10, 25], [39, 7, 10, 76, 13, 21, 90, 91, 25, 32], [94, 21, 51, 91, 26, 9, 97, 86, 93, 74], [46, 34, 50, 99, 51, 71, 9, 56, 27, 0], [82, 40, 30, 38, 92, 17, 53, 65, 84, 97], [81, 84, 62, 68, 49, 90, 22, 15, 13, 8]]\n"
     ]
    }
   ],
   "source": [
    "#De esta forma se muestra la nueva matriz\n",
    "\n",
    "print(f'La matrix de {nn} elementos creada es: \\n{matrix2}')"
   ]
  },
  {
   "cell_type": "code",
   "execution_count": 23,
   "id": "7e79546e",
   "metadata": {},
   "outputs": [
    {
     "name": "stdout",
     "output_type": "stream",
     "text": [
      "Los valores de la 5th fila de la matriz son: \n",
      "[9, 17, 88, 61, 98, 69, 84, 51, 10, 25]\n"
     ]
    }
   ],
   "source": [
    "#Agregamos una variable a la que le asignamos la 5th fila de la nueva matriz y se muestra la la fila 5th\n",
    "\n",
    "fila5=matrix2[4]\n",
    "print(f'Los valores de la 5th fila de la matriz son: \\n{fila5}')"
   ]
  },
  {
   "cell_type": "code",
   "execution_count": 24,
   "id": "920a61c6",
   "metadata": {},
   "outputs": [],
   "source": [
    "\"\"\"Primero se inicia una nueva lista que contiene los valores de la 5th columna de la nueva matriz, además\n",
    "se inicia el contador jj a cero para que se agreguen correctamente los valores, y esto se consigue haciendo uso\n",
    "del for loop\"\"\"\n",
    "\n",
    "columna5=[] \n",
    "jj=0\n",
    "\n",
    "for elemento in range(int(math.sqrt(nn))):\n",
    "    elemento=matrix2[jj][4]\n",
    "    jj=jj+1\n",
    "    columna5.append(elemento)"
   ]
  },
  {
   "cell_type": "code",
   "execution_count": 25,
   "id": "63393510",
   "metadata": {},
   "outputs": [
    {
     "name": "stdout",
     "output_type": "stream",
     "text": [
      "Los valores de la 5th columna de la matriz son: \n",
      "[65, 49, 4, 26, 98, 13, 26, 51, 92, 49]\n"
     ]
    }
   ],
   "source": [
    "#De esta forma se muestra los valores de la c5th columna\n",
    "\n",
    "print(f'Los valores de la 5th columna de la matriz son: \\n{columna5}')"
   ]
  },
  {
   "cell_type": "code",
   "execution_count": 26,
   "id": "4bb640a5",
   "metadata": {},
   "outputs": [
    {
     "name": "stdout",
     "output_type": "stream",
     "text": [
      "La suma de cada elemento de la 5th fila más cada elemento de la 5th columna es: \n",
      "[74, 66, 92, 87, 196, 82, 110, 102, 102, 74]\n"
     ]
    }
   ],
   "source": [
    "\"\"\"Se inicia una nueva lista que contendrá los elementos de la 5th fila con cada respectivo elemento de la 5th columna, \n",
    "además, se inicia un nuevo contador que nos asegura que cada valor de la fila se suma con su respectivo valor de la column\n",
    ", y se muestra el resultado\"\"\"\n",
    "\n",
    "suma5=[]\n",
    "gg=0\n",
    "for gg in range (int(math.sqrt(nn))):\n",
    "    suma5.append(fila5[gg]+columna5[gg])\n",
    "    gg=gg+1\n",
    "print(f'La suma de cada elemento de la 5th fila más cada elemento de la 5th columna es: \\n{suma5}')"
   ]
  },
  {
   "cell_type": "code",
   "execution_count": 27,
   "id": "4e408066",
   "metadata": {},
   "outputs": [
    {
     "data": {
      "text/plain": [
       "'- Create the function that the teacher told you in the previous class (Sine), that must be specified by the program user (0.25 points)'"
      ]
     },
     "execution_count": 27,
     "metadata": {},
     "output_type": "execute_result"
    }
   ],
   "source": [
    "fourth_task #Aquí inicia la cuarta y última tarea específica"
   ]
  },
  {
   "cell_type": "code",
   "execution_count": 28,
   "id": "fa651b32",
   "metadata": {},
   "outputs": [
    {
     "name": "stdout",
     "output_type": "stream",
     "text": [
      "Ingrese \"fila\" o \"columna\" si quiere aplicar la función seno a una de ellas: fila\n",
      "\n",
      "Seleccione una fila desde 1 hasta 10: 1\n",
      "\n",
      "La fila seleccionada es 1 cuyos elementos son: \n",
      "[4, 62, 86, 38, 65, 58, 93, 59, 37, 13]\n",
      "\n",
      "Los valores en radianes de la fila 1 son: \n",
      "[0.07, 1.08, 1.5, 0.66, 1.13, 1.01, 1.62, 1.03, 0.65, 0.23]\n",
      "\n",
      "Al aplicar la función seno a la fila 1 tenemos que: \n",
      "[0.0699, 0.882, 0.9975, 0.6131, 0.9044, 0.8468, 0.9988, 0.8573, 0.6052, 0.228]\n"
     ]
    }
   ],
   "source": [
    "\"\"\"Se hace uso de un while loop que abarca todo el código para realizar la cuarta tarea (como ya se ha creado la matriz)\n",
    ", dentro de éste se encuentra un try/except que nos permite lidear con los posibles inputs erróneos del usuario, y dentro de\n",
    "try/except se encuentran una condición if y elif, la condición if se cumple si se quiere aplicar la función seno a una fila,\n",
    "la función elif si se quiere aplicar a una columna y finalmente una condición else por si no se ha escrito bien el input\n",
    "(nota:el código se ha diseñado para que el input no sea \"case sensitive\", ejemplo: False=false=FALSE) y finalmente se convierten\n",
    "los valores de fila/columna seleccionada a radianes antes de aplicar la función seno\"\"\"\n",
    "\n",
    "while True:\n",
    "    try:\n",
    "        cc=input('Ingrese \"fila\" o \"columna\" si quiere aplicar la función seno a una de ellas: ')\n",
    "        if cc.upper()=='FILA':\n",
    "            dd=int(input(f'\\nSeleccione una fila desde 1 hasta {int(math.sqrt(nn))}: '))\n",
    "            if dd<1 or dd>int(math.sqrt(nn)):\n",
    "                print(\"Lo ingresado no es correcto\")\n",
    "                continue\n",
    "            print(f'\\nLa fila seleccionada es {dd} cuyos elementos son: \\n{matrix2[dd-1]}')\n",
    "            filaxRad=[]\n",
    "            ii=0\n",
    "            for elementoRad in range(int(math.sqrt(nn))):\n",
    "                elementoRad=round(matrix2[dd-1][ii]*(math.pi/180),2)\n",
    "                filaxRad.append(elementoRad)\n",
    "                ii=ii+1\n",
    "            print(f'\\nLos valores en radianes de la fila {dd} son: \\n{filaxRad}')\n",
    "            jj=0\n",
    "            filaxSIN=[]\n",
    "            for elementoSIN in range(int(math.sqrt(nn))):\n",
    "                elementoSIN=round(math.sin(filaxRad[jj]),4)\n",
    "                filaxSIN.append(elementoSIN)\n",
    "                jj=jj+1\n",
    "            print(f'\\nAl aplicar la función seno a la fila {dd} tenemos que: \\n{filaxSIN}')\n",
    "            break\n",
    "        elif cc.upper()=='COLUMNA':\n",
    "            dd=int(input(f'Seleccione una columna desde 1 hasta {int(math.sqrt(nn))}: '))\n",
    "            if dd<1 or dd>int(math.sqrt(nn)):\n",
    "                    print(\"Lo ingresado no es correcto\")\n",
    "                    continue\n",
    "            columnax=[] \n",
    "            jj=0\n",
    "            for elemento in range(int(math.sqrt(nn))):\n",
    "                elemento=matrix2[jj][dd-1]\n",
    "                columnax.append(elemento)\n",
    "                jj=jj+1\n",
    "            print(f'\\nLa columna seleccionada es {dd} cuyos elementos son: \\n{columnax}')\n",
    "            columnaxRad=[]\n",
    "            ii=0\n",
    "            for elementoRad in range(int(math.sqrt(nn))):\n",
    "                elementoRad=round(columnax[ii]*(math.pi/180),2)\n",
    "                columnaxRad.append(elementoRad)\n",
    "                ii=ii+1 \n",
    "            print(f'\\nLos valores en radianes de la columna {dd} son: \\n{columnaxRad}')\n",
    "            kk=0\n",
    "            columnaxSIN=[]\n",
    "            for elementoSIN in range(int(math.sqrt(nn))):\n",
    "                elementoSIN=round(math.sin(columnaxRad[kk]),4)\n",
    "                columnaxSIN.append(elementoSIN)\n",
    "                kk=kk+1\n",
    "            print(f'\\nAl aplicar la función seno a la columna {dd} tenemos que: \\n{columnaxSIN}')\n",
    "            break\n",
    "        else:\n",
    "            print('Lo ingresado no es correcto, intente nuevamente')\n",
    "            continue\n",
    "    except ValueError:\n",
    "        continue"
   ]
  },
  {
   "cell_type": "code",
   "execution_count": null,
   "id": "40eb1e45",
   "metadata": {},
   "outputs": [],
   "source": []
  }
 ],
 "metadata": {
  "kernelspec": {
   "display_name": "Python 3 (ipykernel)",
   "language": "python",
   "name": "python3"
  },
  "language_info": {
   "codemirror_mode": {
    "name": "ipython",
    "version": 3
   },
   "file_extension": ".py",
   "mimetype": "text/x-python",
   "name": "python",
   "nbconvert_exporter": "python",
   "pygments_lexer": "ipython3",
   "version": "3.11.5"
  }
 },
 "nbformat": 4,
 "nbformat_minor": 5
}
