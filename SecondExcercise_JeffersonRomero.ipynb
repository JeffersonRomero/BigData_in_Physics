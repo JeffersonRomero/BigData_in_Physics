{
 "cells": [
  {
   "cell_type": "markdown",
   "id": "37469d66",
   "metadata": {},
   "source": [
    "# Big Data Techniques in Physics-Second Excercise\n",
    "# Student: Jefferson Alexander Romero Márquez\n",
    "# Date: 27/10/2024"
   ]
  },
  {
   "cell_type": "code",
   "execution_count": 1,
   "id": "ef3c567e",
   "metadata": {},
   "outputs": [],
   "source": [
    "# Importing necessary libraries\n",
    "\n",
    "import os # to check the existence of image files.\n",
    "import numpy as np # to perform numerical operations.\n",
    "import pandas as pd # to create tabulated data and to save a CSV file.\n",
    "from astropy.io import fits # to read and handle FITS files that contain the astronomical images."
   ]
  },
  {
   "cell_type": "code",
   "execution_count": 2,
   "id": "c515db9b",
   "metadata": {},
   "outputs": [],
   "source": [
    "# Defining variables to store the file paths of the images to be used\n",
    "\n",
    "path_image_1 = '10049_cosmos_I.fits'\n",
    "path_image_2 = '10049_cosmos_V.fits'\n",
    "path_image_mask = 'mask_for_10049_cosmos.fits'"
   ]
  },
  {
   "cell_type": "markdown",
   "id": "4ca29ab6",
   "metadata": {},
   "source": [
    "#### Open the two images, checking first that the images exist, and check whether their dimensions are the same (i.e. that you deal with a square image) and that they coincide with those stored in the image header with the keywords \"NAXIS1\" (size in the x-axis) and \"NAXIS2\" (size in the y-axis). "
   ]
  },
  {
   "cell_type": "code",
   "execution_count": 3,
   "id": "048fe5ac",
   "metadata": {},
   "outputs": [
    {
     "name": "stdout",
     "output_type": "stream",
     "text": [
      "The two images were opened correctly.\n"
     ]
    }
   ],
   "source": [
    "# Checking if both image files exist before opening them\n",
    "if os.path.exists(path_image_1) and os.path.exists(path_image_2):\n",
    "    \n",
    "    # to open the first image and extract the data\n",
    "    hdu_1 = fits.open(path_image_1)\n",
    "    image_1 = hdu_1[0].data\n",
    "    header_1 = hdu_1[0].header\n",
    "\n",
    "    # to open the second image and extract the data\n",
    "    hdu_2 = fits.open(path_image_2)\n",
    "    image_2 = hdu_2[0].data\n",
    "    header_2 = hdu_2[0].header\n",
    "    \n",
    "    print('The two images were opened correctly.')\n",
    "    \n",
    "else:\n",
    "    print(\"One or both of the files don't exist.\")"
   ]
  },
  {
   "cell_type": "code",
   "execution_count": 4,
   "id": "35a8c0b7",
   "metadata": {},
   "outputs": [
    {
     "name": "stdout",
     "output_type": "stream",
     "text": [
      "The first image is square because the dimensions (rows and columns) are equal.\n",
      "The first image dimensions match the values stored in the image header (NAXIS1 and NAXIS2).\n"
     ]
    }
   ],
   "source": [
    "# Getting the dimensions of the first image (rows and columns)\n",
    "rows_1, cols_1 = image_1.shape\n",
    "\n",
    "# to check if the first image is square (rows equal to columns)\n",
    "if rows_1 == cols_1:\n",
    "    print('The first image is square because the dimensions (rows and columns) are equal.')\n",
    "\n",
    "    # to check if the image dimensions are equal to those stored in the header (NAXIS1 and NAXIS2)\n",
    "    if image_1.shape == (header_1['NAXIS1'], header_1['NAXIS2']):\n",
    "        print('The first image dimensions match the values stored in the image header (NAXIS1 and NAXIS2).')\n",
    "        \n",
    "    else:\n",
    "        print(\"The dimensions of the first image do not match the values stored in the image header.\")\n",
    "else:\n",
    "    print('The first image is not square because the dimensions (rows and columns) are different.')"
   ]
  },
  {
   "cell_type": "code",
   "execution_count": 5,
   "id": "43cf9aaa",
   "metadata": {},
   "outputs": [
    {
     "name": "stdout",
     "output_type": "stream",
     "text": [
      "The second image is square because the dimensions (rows and columns) are equal.\n",
      "The second image dimensions match the values stored in the image header (NAXIS1 and NAXIS2).\n"
     ]
    }
   ],
   "source": [
    "# Getting the dimensions of the second image (rows and columns)\n",
    "rows_2, cols_2 = image_2.shape\n",
    "\n",
    "# to check if the second image is square (rows equal to columns)\n",
    "if rows_2 == cols_2:\n",
    "    print('The second image is square because the dimensions (rows and columns) are equal.')\n",
    "\n",
    "    # to check if the image dimensions match those stored in the header (NAXIS1 and NAXIS2)\n",
    "    if image_2.shape == (header_2['NAXIS1'], header_2['NAXIS2']):\n",
    "        print('The second image dimensions match the values stored in the image header (NAXIS1 and NAXIS2).')\n",
    "    \n",
    "    else:\n",
    "        print(\"The dimensions of the second image do not match the values stored in the image header.\")\n",
    "else:\n",
    "    print('The second image is not square because the dimensions (rows and columns) are different.')"
   ]
  },
  {
   "cell_type": "code",
   "execution_count": 6,
   "id": "03a87d76",
   "metadata": {},
   "outputs": [
    {
     "name": "stdout",
     "output_type": "stream",
     "text": [
      "The two images have the same dimensions.\n"
     ]
    }
   ],
   "source": [
    "# Checking if the two images have the same dimensions\n",
    "\n",
    "if image_1.shape == image_2.shape:\n",
    "    print(f'The two images have the same dimensions.')\n",
    "else:\n",
    "    print('The two images are not the same dimensions.')"
   ]
  },
  {
   "cell_type": "markdown",
   "id": "4b152612",
   "metadata": {},
   "source": [
    "#### Sum both images and find the brightest pixel (not only its value, but its x and y position). Be careful in case the summed image has inside some NaN values. Create a tabulated file containing the mean, median and number of valid pixels (i.e. those that are not NaNs) of each image by means of using the Pandas library. --Hint -- You could try to look on the internet what other people have already used to get the (x,y) coordinates, but whatever you use, please document it in detail in the source code."
   ]
  },
  {
   "cell_type": "code",
   "execution_count": 7,
   "id": "1c8d4238",
   "metadata": {},
   "outputs": [],
   "source": [
    "# Replacing any NaN values in the images with 0.0 to ensure that all pixel values are valid for numerical operations\n",
    "\n",
    "image_1 = np.nan_to_num(image_1, nan=0.0)\n",
    "image_2 = np.nan_to_num(image_2, nan=0.0)"
   ]
  },
  {
   "cell_type": "code",
   "execution_count": 8,
   "id": "ed3760e1",
   "metadata": {},
   "outputs": [
    {
     "data": {
      "text/plain": [
       "array([[ 0.00290961, -0.00127162, -0.0024527 , ...,  0.00104226,\n",
       "        -0.00169292,  0.00079331],\n",
       "       [ 0.00368083,  0.0039911 ,  0.00370309, ..., -0.00199988,\n",
       "        -0.00106873, -0.00241495],\n",
       "       [ 0.00093227,  0.00069031, -0.00277769, ..., -0.00117627,\n",
       "         0.00114775, -0.0058819 ],\n",
       "       ...,\n",
       "       [-0.00116722, -0.00184006,  0.00457017, ...,  0.00064464,\n",
       "        -0.00308766,  0.00376437],\n",
       "       [ 0.00193172,  0.00402239,  0.00116153, ..., -0.00269547,\n",
       "        -0.00083795,  0.00303594],\n",
       "       [-0.00150171,  0.00372381,  0.00176171, ...,  0.00156541,\n",
       "        -0.00021923,  0.00036353]])"
      ]
     },
     "execution_count": 8,
     "metadata": {},
     "output_type": "execute_result"
    }
   ],
   "source": [
    "# Sum the two images to create a combined image\n",
    "\n",
    "sum_image = image_1 + image_2\n",
    "sum_image"
   ]
  },
  {
   "cell_type": "code",
   "execution_count": 9,
   "id": "c54cca30",
   "metadata": {},
   "outputs": [
    {
     "name": "stdout",
     "output_type": "stream",
     "text": [
      "The index of the brightest pixel is: 500999\n"
     ]
    }
   ],
   "source": [
    "# Finding the index of the brightest pixel in the summed image\n",
    "# Using np.nanargmax to ignore any NaN values in the array\n",
    "\n",
    "pixel_index = np.nanargmax(sum_image)\n",
    "print(f'The index of the brightest pixel is: {pixel_index}')"
   ]
  },
  {
   "cell_type": "code",
   "execution_count": 10,
   "id": "fb7b0744",
   "metadata": {},
   "outputs": [
    {
     "name": "stdout",
     "output_type": "stream",
     "text": [
      "The brightest pixel is located at coordinates: (500, 499).\n"
     ]
    }
   ],
   "source": [
    "# to locate the position of the brightest pixel in coordinates (x,y)\n",
    "\n",
    "pixel_coordinates = np.unravel_index(pixel_index, sum_image.shape)\n",
    "print(f'The brightest pixel is located at coordinates: {pixel_coordinates}.')"
   ]
  },
  {
   "cell_type": "code",
   "execution_count": 11,
   "id": "1cca6ee7",
   "metadata": {},
   "outputs": [
    {
     "name": "stdout",
     "output_type": "stream",
     "text": [
      "The value of the brightest pixel is: 4.842118263244629\n"
     ]
    }
   ],
   "source": [
    "# getting the value of the brightest pixel using its coordinates (x,y)\n",
    "\n",
    "pixel_value = sum_image[pixel_coordinates]\n",
    "print(f'The value of the brightest pixel is: {pixel_value}')"
   ]
  },
  {
   "cell_type": "code",
   "execution_count": 12,
   "id": "994c2087",
   "metadata": {},
   "outputs": [
    {
     "name": "stdout",
     "output_type": "stream",
     "text": [
      "Statistics for the first image:\n",
      "Mean: 0.0016950110959964304\n",
      "Median: 0.00014585502503905445\n",
      "Valid pixels: 1002001\n"
     ]
    }
   ],
   "source": [
    "# Statistics for the first image\n",
    "\n",
    "mean_image_1   = np.nanmean(image_1) # calculate the mean ignoring NaN\n",
    "median_image_1 = np.nanmedian(image_1) # calculte the median ignoring NaN\n",
    "valid_pixels_1 = np.sum(np.isnan(image_2) == False) # count the number of pixels that are not NaN\n",
    "\n",
    "print(\"Statistics for the first image:\")\n",
    "print(f\"Mean: {mean_image_1}\")\n",
    "print(f\"Median: {median_image_1}\")\n",
    "print(f\"Valid pixels: {valid_pixels_1}\")"
   ]
  },
  {
   "cell_type": "code",
   "execution_count": 13,
   "id": "42add26c",
   "metadata": {},
   "outputs": [
    {
     "data": {
      "text/html": [
       "<div>\n",
       "<style scoped>\n",
       "    .dataframe tbody tr th:only-of-type {\n",
       "        vertical-align: middle;\n",
       "    }\n",
       "\n",
       "    .dataframe tbody tr th {\n",
       "        vertical-align: top;\n",
       "    }\n",
       "\n",
       "    .dataframe thead th {\n",
       "        text-align: right;\n",
       "    }\n",
       "</style>\n",
       "<table border=\"1\" class=\"dataframe\">\n",
       "  <thead>\n",
       "    <tr style=\"text-align: right;\">\n",
       "      <th></th>\n",
       "      <th>Image</th>\n",
       "      <th>Mean</th>\n",
       "      <th>Median</th>\n",
       "      <th>Valid_Pixels</th>\n",
       "    </tr>\n",
       "  </thead>\n",
       "  <tbody>\n",
       "    <tr>\n",
       "      <th>0</th>\n",
       "      <td>Image_1</td>\n",
       "      <td>0.001695</td>\n",
       "      <td>0.000146</td>\n",
       "      <td>1002001</td>\n",
       "    </tr>\n",
       "  </tbody>\n",
       "</table>\n",
       "</div>"
      ],
      "text/plain": [
       "     Image      Mean    Median  Valid_Pixels\n",
       "0  Image_1  0.001695  0.000146       1002001"
      ]
     },
     "execution_count": 13,
     "metadata": {},
     "output_type": "execute_result"
    }
   ],
   "source": [
    "# Creating a DataFrame to store the statistics for the first image\n",
    "\n",
    "# Creating a dictionary\n",
    "stats_1 = {'Image': ['Image_1'], 'Mean': [mean_image_1], 'Median': [median_image_1], 'Valid_Pixels': [valid_pixels_1]}  \n",
    "\n",
    "# Converting the dictionary to a Pandas DataFrame\n",
    "df1 = pd.DataFrame(stats_1)\n",
    "df1"
   ]
  },
  {
   "cell_type": "code",
   "execution_count": 14,
   "id": "929413b0",
   "metadata": {},
   "outputs": [
    {
     "name": "stdout",
     "output_type": "stream",
     "text": [
      "Statistics for the second image:\n",
      "Mean: 0.0013648975590453704\n",
      "Median: 0.0001270876673515886\n",
      "Valid pixels: 1002001\n"
     ]
    }
   ],
   "source": [
    "# Statistics for the second image\n",
    "\n",
    "mean_image_2   = np.nanmean(image_2) # calculate the mean ignoring NaN\n",
    "median_image_2 = np.nanmedian(image_2) # calculte the median ignoring NaN\n",
    "valid_pixels_2 = np.sum(np.isnan(image_2) == False) # count the number of pixels that are not NaN\n",
    "\n",
    "print(\"Statistics for the second image:\")\n",
    "print(f\"Mean: {mean_image_2}\")\n",
    "print(f\"Median: {median_image_2}\")\n",
    "print(f\"Valid pixels: {valid_pixels_2}\")"
   ]
  },
  {
   "cell_type": "code",
   "execution_count": 15,
   "id": "73660f4b",
   "metadata": {},
   "outputs": [
    {
     "data": {
      "text/html": [
       "<div>\n",
       "<style scoped>\n",
       "    .dataframe tbody tr th:only-of-type {\n",
       "        vertical-align: middle;\n",
       "    }\n",
       "\n",
       "    .dataframe tbody tr th {\n",
       "        vertical-align: top;\n",
       "    }\n",
       "\n",
       "    .dataframe thead th {\n",
       "        text-align: right;\n",
       "    }\n",
       "</style>\n",
       "<table border=\"1\" class=\"dataframe\">\n",
       "  <thead>\n",
       "    <tr style=\"text-align: right;\">\n",
       "      <th></th>\n",
       "      <th>Image</th>\n",
       "      <th>Mean</th>\n",
       "      <th>Median</th>\n",
       "      <th>Valid_Pixels</th>\n",
       "    </tr>\n",
       "  </thead>\n",
       "  <tbody>\n",
       "    <tr>\n",
       "      <th>0</th>\n",
       "      <td>Image_2</td>\n",
       "      <td>0.001365</td>\n",
       "      <td>0.000127</td>\n",
       "      <td>1002001</td>\n",
       "    </tr>\n",
       "  </tbody>\n",
       "</table>\n",
       "</div>"
      ],
      "text/plain": [
       "     Image      Mean    Median  Valid_Pixels\n",
       "0  Image_2  0.001365  0.000127       1002001"
      ]
     },
     "execution_count": 15,
     "metadata": {},
     "output_type": "execute_result"
    }
   ],
   "source": [
    "# Creating a DataFrame to store the statistics for the second image\n",
    "\n",
    "# Creating a dictionary\n",
    "stats2 = {'Image' : ['Image_2'], 'Mean' : [mean_image_2], 'Median' : [median_image_2], 'Valid_Pixels' : [valid_pixels_2] }\n",
    "\n",
    "# Converting the dictionary to a Pandas DataFrame\n",
    "df2 = pd.DataFrame(stats2)\n",
    "df2"
   ]
  },
  {
   "cell_type": "code",
   "execution_count": 16,
   "id": "03943670",
   "metadata": {},
   "outputs": [
    {
     "data": {
      "text/html": [
       "<div>\n",
       "<style scoped>\n",
       "    .dataframe tbody tr th:only-of-type {\n",
       "        vertical-align: middle;\n",
       "    }\n",
       "\n",
       "    .dataframe tbody tr th {\n",
       "        vertical-align: top;\n",
       "    }\n",
       "\n",
       "    .dataframe thead th {\n",
       "        text-align: right;\n",
       "    }\n",
       "</style>\n",
       "<table border=\"1\" class=\"dataframe\">\n",
       "  <thead>\n",
       "    <tr style=\"text-align: right;\">\n",
       "      <th></th>\n",
       "      <th>Image</th>\n",
       "      <th>Mean</th>\n",
       "      <th>Median</th>\n",
       "      <th>Valid_Pixels</th>\n",
       "    </tr>\n",
       "  </thead>\n",
       "  <tbody>\n",
       "    <tr>\n",
       "      <th>0</th>\n",
       "      <td>Image_1</td>\n",
       "      <td>0.001695</td>\n",
       "      <td>0.000146</td>\n",
       "      <td>1002001</td>\n",
       "    </tr>\n",
       "    <tr>\n",
       "      <th>1</th>\n",
       "      <td>Image_2</td>\n",
       "      <td>0.001365</td>\n",
       "      <td>0.000127</td>\n",
       "      <td>1002001</td>\n",
       "    </tr>\n",
       "  </tbody>\n",
       "</table>\n",
       "</div>"
      ],
      "text/plain": [
       "     Image      Mean    Median  Valid_Pixels\n",
       "0  Image_1  0.001695  0.000146       1002001\n",
       "1  Image_2  0.001365  0.000127       1002001"
      ]
     },
     "execution_count": 16,
     "metadata": {},
     "output_type": "execute_result"
    }
   ],
   "source": [
    "# Creating a DataFrame for the two images\n",
    "\n",
    "df = pd.concat([df1, df2], ignore_index=True) # ignore_index=True resets the index the DataFrame to avoid duplicate indices\n",
    "df"
   ]
  },
  {
   "cell_type": "code",
   "execution_count": 17,
   "id": "58b9d025",
   "metadata": {},
   "outputs": [],
   "source": [
    "# Saving the DataFrame to a CSV file\n",
    "\n",
    "df.to_csv('Stats_images.csv', index=False)"
   ]
  },
  {
   "cell_type": "markdown",
   "id": "b30e9d61",
   "metadata": {},
   "source": [
    "####  We could estimate the image noise by masking all galaxies in the image and studying the statistics of the background pixels. To that end, we also give a mask image. What you can do then is to multiply the mask by the summed image, and this way you will end up with only background pixels. Why is that so? Because the galaxy pixels in the mask are set to NaN while the rest have the value 1. In this newly created image, you must set ten random square apertures of 10x10 pixels, and you must measure in each one of them the background noise as the standard deviation of the pixels there contained. Show in the screen the final value for the measured noise, calculated as the mean value of these ten random apertures. --Hint-- If you use functions that are able to deal with NaN values, it is not necessary that you check where your random apertures are in the image. If not proceeding in such a way, you must check that the arrays for your calculations do not contain NaNs, or otherwise they will cause errors."
   ]
  },
  {
   "cell_type": "code",
   "execution_count": 18,
   "id": "5910062e",
   "metadata": {},
   "outputs": [
    {
     "name": "stdout",
     "output_type": "stream",
     "text": [
      "The third image was opened correctly.\n"
     ]
    }
   ],
   "source": [
    "# Opening the third image \n",
    "\n",
    "if os.path.exists(path_image_mask):  # to Check if the file exists\n",
    "    \n",
    "    # to open the third image and extract the data\n",
    "    hdu_mask = fits.open(path_image_mask)  \n",
    "    image_mask = hdu_mask[0].data  \n",
    "    header_mask = hdu_mask[0].header  \n",
    "    \n",
    "    print('The third image was opened correctly.')\n",
    "    \n",
    "else:\n",
    "    print(\"The third image file couldn't be found.\")"
   ]
  },
  {
   "cell_type": "code",
   "execution_count": 19,
   "id": "0bab43f0",
   "metadata": {},
   "outputs": [
    {
     "name": "stdout",
     "output_type": "stream",
     "text": [
      "The mask image has the same dimensions as the first two images.\n",
      "Each image has dimensions: (1001, 1001)\n"
     ]
    }
   ],
   "source": [
    "# Checking if the mask image (third image) has the same dimensions as the other two images\n",
    "\n",
    "if image_1.shape == image_2.shape == image_mask.shape: \n",
    "    \n",
    "    print('The mask image has the same dimensions as the first two images.')\n",
    "    print(f'Each image has dimensions: {image_mask.shape}')  # Display the dimensions for clarity\n",
    "    \n",
    "else:\n",
    "    # Print an error message if the dimensions do not match\n",
    "    print(\"The mask image doesn't have the same dimensions as the first two images.\")"
   ]
  },
  {
   "cell_type": "code",
   "execution_count": 20,
   "id": "3befd60e",
   "metadata": {},
   "outputs": [
    {
     "data": {
      "text/plain": [
       "array([[ 0.00290961, -0.00127162, -0.0024527 , ...,  0.00104226,\n",
       "        -0.00169292,  0.00079331],\n",
       "       [ 0.00368083,  0.0039911 ,  0.00370309, ..., -0.00199988,\n",
       "        -0.00106873, -0.00241495],\n",
       "       [ 0.00093227,  0.00069031, -0.00277769, ..., -0.00117627,\n",
       "         0.00114775, -0.0058819 ],\n",
       "       ...,\n",
       "       [-0.00116722, -0.00184006,  0.00457017, ...,  0.00064464,\n",
       "        -0.00308766,  0.00376437],\n",
       "       [ 0.00193172,  0.00402239,  0.00116153, ..., -0.00269547,\n",
       "        -0.00083795,  0.00303594],\n",
       "       [-0.00150171,  0.00372381,  0.00176171, ...,  0.00156541,\n",
       "        -0.00021923,  0.00036353]])"
      ]
     },
     "execution_count": 20,
     "metadata": {},
     "output_type": "execute_result"
    }
   ],
   "source": [
    "# Applying the mask to the summed image\n",
    "# This operation keeps only the background pixels because the mask has NaNs for galaxy pixels and 1 for the background\n",
    "\n",
    "masked_image = image_mask * sum_image\n",
    "masked_image"
   ]
  },
  {
   "cell_type": "code",
   "execution_count": 21,
   "id": "c33bcd1e",
   "metadata": {},
   "outputs": [
    {
     "name": "stdout",
     "output_type": "stream",
     "text": [
      "Coordinates selected:\n",
      "[(784, 358), (939, 152), (170, 702), (339, 39), (899, 88), (60, 706), (813, 959), (790, 26), (982, 467), (550, 824)]\n"
     ]
    }
   ],
   "source": [
    "# Generating 10 random square apertures of 10x10 pixels\n",
    "\n",
    "apertures = []  # List that will store the coordinates of the valid apertures\n",
    "\n",
    "# This while loop is used to get 10 valid apertures (the standar deviation is not going to be NaN)\n",
    "while len(apertures) < 10:\n",
    "    \n",
    "    # Generate random coordinates for the apertures \n",
    "    # Using -10 to keep the 10x10 aperture within image range\n",
    "    xx = np.random.randint(0, masked_image.shape[0] - 10)\n",
    "    yy = np.random.randint(0, masked_image.shape[1] - 10)\n",
    "    \n",
    "    # getting the 10x10 submatrix from the masked image\n",
    "    # Using +10 to get the specific range \n",
    "    aperture = masked_image[xx : xx + 10, yy : yy + 10]\n",
    "    \n",
    "    # to check if the aperture contains at least one valid pixel (not NaN)\n",
    "    num_valid_pixels = np.sum(np.isnan(aperture)==False)\n",
    "    if num_valid_pixels > 0:\n",
    "        apertures.append((xx, yy)) # It adds the submatrix to the matrix\n",
    "\n",
    "print(\"Coordinates selected:\")\n",
    "print(apertures)"
   ]
  },
  {
   "cell_type": "code",
   "execution_count": 22,
   "id": "27495f69",
   "metadata": {},
   "outputs": [
    {
     "name": "stdout",
     "output_type": "stream",
     "text": [
      "Standard deviation:\n",
      "[0.002877294666174396, 0.002589948818113137, 0.003048607580278818, 0.0022876235468457036, 0.0032651670273311857, 0.0026684507112091456, 0.0029482136566958517, 0.003544412849499519, 0.0033939088923915176, 0.0030617030984054407]\n"
     ]
    }
   ],
   "source": [
    "# Calculating the standard deviation for each selected aperture\n",
    "std_aperture = []  # List to store the standard deviation of each aperture\n",
    "\n",
    "for (xx, yy) in apertures:\n",
    "    # getting the 10x10 submatrix from the masked image\n",
    "    aperture = masked_image[xx:xx + 10, yy:yy + 10] \n",
    "    \n",
    "    # to calculate the standard deviation ignoring NaN values\n",
    "    std_coordinate = np.nanstd(aperture)\n",
    "    \n",
    "    # to add the calculated standard deviation to the list\n",
    "    std_aperture.append(std_coordinate)\n",
    "\n",
    "print(\"Standard deviation:\")\n",
    "print(std_aperture)"
   ]
  },
  {
   "cell_type": "code",
   "execution_count": 23,
   "id": "9999da92",
   "metadata": {},
   "outputs": [
    {
     "name": "stdout",
     "output_type": "stream",
     "text": [
      "The measured noise is: 0.0029685330846944717\n"
     ]
    }
   ],
   "source": [
    "# Calculating the noise as the mean of the standard deviations\n",
    "\n",
    "measured_noise = np.mean(std_aperture)\n",
    "print(f\"The measured noise is: {measured_noise}\")"
   ]
  }
 ],
 "metadata": {
  "kernelspec": {
   "display_name": "Python 3 (ipykernel)",
   "language": "python",
   "name": "python3"
  },
  "language_info": {
   "codemirror_mode": {
    "name": "ipython",
    "version": 3
   },
   "file_extension": ".py",
   "mimetype": "text/x-python",
   "name": "python",
   "nbconvert_exporter": "python",
   "pygments_lexer": "ipython3",
   "version": "3.11.5"
  }
 },
 "nbformat": 4,
 "nbformat_minor": 5
}
